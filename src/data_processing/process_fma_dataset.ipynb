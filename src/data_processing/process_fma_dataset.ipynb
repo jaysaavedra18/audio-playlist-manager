{
 "cells": [
  {
   "cell_type": "markdown",
   "metadata": {},
   "source": [
    "## Setup / Config"
   ]
  },
  {
   "cell_type": "code",
   "execution_count": 5,
   "metadata": {},
   "outputs": [],
   "source": [
    "import os\n",
    "from pathlib import Path\n",
    "\n",
    "import pandas as pd\n",
    "from dotenv import load_dotenv\n",
    "\n",
    "load_dotenv()\n",
    "FMA_METADATA_DIRECTORY = os.getenv(\"FMA_METADATA_DIRECTORY\")"
   ]
  },
  {
   "cell_type": "markdown",
   "metadata": {},
   "source": [
    "## Import Dataset"
   ]
  },
  {
   "cell_type": "code",
   "execution_count": 7,
   "metadata": {},
   "outputs": [],
   "source": [
    "# Load the FMA metadata files\n",
    "\n",
    "tracks_metadata = pd.read_csv(\n",
    "    Path(FMA_METADATA_DIRECTORY) / \"tracks.csv\",\n",
    "    low_memory=False,\n",
    "    )\n",
    "features_metadata = pd.read_csv(\n",
    "    Path(FMA_METADATA_DIRECTORY) / \"features.csv\",\n",
    "    low_memory=False,\n",
    "    )\n",
    "genres_metadata = pd.read_csv(Path(FMA_METADATA_DIRECTORY) / \"genres.csv\")"
   ]
  },
  {
   "cell_type": "markdown",
   "metadata": {},
   "source": [
    "## Merge the Data"
   ]
  },
  {
   "cell_type": "code",
   "execution_count": 8,
   "metadata": {},
   "outputs": [],
   "source": [
    "# Merge the metadata files\n",
    "fma_metadata = features_metadata.merge(\n",
    "    tracks_metadata,\n",
    "    left_index=True,\n",
    "    right_index=True,\n",
    ")"
   ]
  },
  {
   "cell_type": "markdown",
   "metadata": {},
   "source": [
    "## Process Songs in Dataset"
   ]
  },
  {
   "cell_type": "code",
   "execution_count": null,
   "metadata": {},
   "outputs": [],
   "source": [
    "for idx, row in tracks_metadata.iterrows():\n",
    "    audio_path = Path(FMA_METADATA_DIRECTORY) / \"fma_medium\" / f\"{row['track_id']:06}.mp3\""
   ]
  }
 ],
 "metadata": {
  "kernelspec": {
   "display_name": "venv",
   "language": "python",
   "name": "python3"
  },
  "language_info": {
   "codemirror_mode": {
    "name": "ipython",
    "version": 3
   },
   "file_extension": ".py",
   "mimetype": "text/x-python",
   "name": "python",
   "nbconvert_exporter": "python",
   "pygments_lexer": "ipython3",
   "version": "3.11.4"
  }
 },
 "nbformat": 4,
 "nbformat_minor": 2
}
