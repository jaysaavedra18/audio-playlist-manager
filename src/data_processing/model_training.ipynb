{
 "cells": [
  {
   "cell_type": "markdown",
   "metadata": {},
   "source": [
    "# [FMA: A Dataset For Music Analysis](https://github.com/mdeff/fma)\n",
    "\n",
    "Michaël Defferrard, Kirell Benzi, Pierre Vandergheynst, Xavier Bresson, EPFL LTS2.\n",
    "\n",
    "## Setup: Import Packages and FMA Data"
   ]
  },
  {
   "cell_type": "code",
   "execution_count": 1,
   "metadata": {},
   "outputs": [],
   "source": [
    "%matplotlib inline\n",
    "\n",
    "import os\n",
    "from pathlib import Path\n",
    "\n",
    "import IPython.display as ipd\n",
    "import matplotlib.pyplot as plt\n",
    "import numpy as np\n",
    "from sklearn.impute import SimpleImputer\n",
    "\n",
    "import utils.fma_extraction as fma_utils\n",
    "import utils.ml_training as ml_utils\n",
    "\n",
    "plt.rcParams[\"figure.figsize\"] = (17, 5)"
   ]
  },
  {
   "cell_type": "code",
   "execution_count": null,
   "metadata": {},
   "outputs": [],
   "source": [
    "# Directory where mp3 are stored.\n",
    "FMA_METADATA_DIRECTORY = os.getenv(\"FMA_METADATA_DIRECTORY\")\n",
    "FMA_AUDIO_DIRECTORY = os.getenv(\"FMA_AUDIO_DIRECTORY\")\n",
    "\n",
    "# Load metadata and features.\n",
    "tracks = fma_utils.load(Path(FMA_METADATA_DIRECTORY) / \"tracks.csv\")\n",
    "genres = fma_utils.load(Path(FMA_METADATA_DIRECTORY) / \"genres.csv\")\n",
    "features = fma_utils.load(Path(FMA_METADATA_DIRECTORY) / \"features.csv\")\n",
    "echonest = fma_utils.load(Path(FMA_METADATA_DIRECTORY) / \"echonest.csv\")\n",
    "\n",
    "np.testing.assert_array_equal(features.index, tracks.index)\n",
    "assert echonest.index.isin(tracks.index).all()  # noqa: S101\n",
    "\n",
    "# Merge features with echonest.\n",
    "features = features.merge(echonest, left_index=True, right_index=True, how=\"left\")\n",
    "print(\"Features columns:\", features.columns.to_list())\n",
    "\n",
    "tracks.shape, genres.shape, features.shape, echonest.shape"
   ]
  },
  {
   "cell_type": "markdown",
   "metadata": {},
   "source": [
    "## Echonest features"
   ]
  },
  {
   "cell_type": "code",
   "execution_count": null,
   "metadata": {},
   "outputs": [],
   "source": [
    "# Add all features under ('echonest', 'audio_features')\n",
    "echonest_features = [\n",
    "    col for col in features.columns\n",
    "    if col[:2] == (\"echonest\", \"audio_features\")\n",
    "        or col[:2] == (\"echonest\", \"temporal_features\")\n",
    "]\n",
    "print(echonest_features)"
   ]
  },
  {
   "cell_type": "code",
   "execution_count": null,
   "metadata": {},
   "outputs": [],
   "source": [
    "print(\"{1} features for {0} tracks\".format(*echonest.shape))\n",
    "ipd.display(echonest[\"echonest\", \"audio_features\"].head())\n",
    "print(\"Audio features include\", echonest[\"echonest\", \"audio_features\"].columns)"
   ]
  },
  {
   "cell_type": "code",
   "execution_count": null,
   "metadata": {},
   "outputs": [],
   "source": [
    "ipd.display(echonest[\"echonest\", \"temporal_features\"].head())\n",
    "x = echonest.loc[2, (\"echonest\", \"temporal_features\")]\n",
    "plt.plot(x)"
   ]
  },
  {
   "cell_type": "markdown",
   "metadata": {},
   "source": [
    "## Classification by Features"
   ]
  },
  {
   "cell_type": "code",
   "execution_count": null,
   "metadata": {},
   "outputs": [],
   "source": [
    "medium = (tracks[\"set\", \"subset\"] <= \"medium\")  # Filters for rows where the subset is \"medium\"\n",
    "\n",
    "# Create a boolean mask for the training, validation, and test data (where \"set\" is \"training/validation/test\")\n",
    "train = tracks[\"set\", \"split\"] == \"training\"\n",
    "val = tracks[\"set\", \"split\"] == \"validation\"\n",
    "test = tracks[\"set\", \"split\"] == \"test\"\n",
    "\n",
    "# Select the genre labels (target) and feature values for each split\n",
    "y_train = tracks.loc[medium & train, (\"track\", \"genre_top\")]\n",
    "y_val = tracks.loc[medium & val, (\"track\", \"genre_top\")]\n",
    "y_test = tracks.loc[medium & test, (\"track\", \"genre_top\")]\n",
    "\n",
    "# Select the feature values for each split\n",
    "X_train_librosa = features.loc[medium & train, ml_utils.feature_columns].values\n",
    "X_val_librosa = features.loc[medium & val, ml_utils.feature_columns].values\n",
    "X_test_librosa = features.loc[medium & test, ml_utils.feature_columns].values\n",
    "\n",
    "X_train_echonest = features.loc[medium & train, (\"echonest\", [\"audio_features\"])].values\n",
    "X_val_echonest = features.loc[medium & val, (\"echonest\", [\"audio_features\"])].values\n",
    "X_test_echonest = features.loc[medium & test, (\"echonest\", [\"audio_features\"])].values\n",
    "\n",
    "# Combine both feature sets for each split\n",
    "X_train_combined = np.hstack([X_train_librosa, X_train_echonest])\n",
    "X_val_combined = np.hstack([X_val_librosa, X_val_echonest])\n",
    "X_test_combined = np.hstack([X_test_librosa, X_test_echonest])\n",
    "\n",
    "# Handle missing values (if any) using SimpleImputer\n",
    "imputer = SimpleImputer(strategy=\"mean\")\n",
    "X_train = imputer.fit_transform(X_train_combined)\n",
    "X_val = imputer.transform(X_val_combined)\n",
    "X_test = imputer.transform(X_test_combined)\n",
    "\n",
    "# Check the shapes of the feature arrays\n",
    "print(X_train.shape)\n",
    "print(X_test.shape)\n",
    "print(X_val.shape)\n",
    "\n",
    "# Flatten the feature arrays if needed (if features are multidimensional, e.g., MFCC)\n",
    "X_train = X_train.reshape(X_train.shape[0], -1)\n",
    "X_test = X_test.reshape(X_test.shape[0], -1)\n",
    "X_val = X_val.reshape(X_val.shape[0], -1)\n",
    "\n",
    "print(f\"{y_train.size} training examples, {y_test.size} testing examples\")\n",
    "print(f\"{X_train.shape[1]} features, {np.unique(y_train).size} classes\")"
   ]
  },
  {
   "cell_type": "code",
   "execution_count": null,
   "metadata": {},
   "outputs": [],
   "source": [
    "nan_columns = features.isna().sum()\n",
    "print(nan_columns[nan_columns > 0])\n"
   ]
  },
  {
   "cell_type": "code",
   "execution_count": null,
   "metadata": {},
   "outputs": [],
   "source": [
    "# Specify feature reduction and classifier\n",
    "reduce_features = False\n",
    "model_classifer = \"SVM\"\n",
    "\n",
    "# Preprocess data, removing features if specified\n",
    "X_train, X_test, y_train_encoded, y_test_encoded = ml_utils.preprocess_data(\n",
    "    X_train=X_train,\n",
    "    X_test=X_test,\n",
    "    y_train=y_train,\n",
    "    y_test=y_test,\n",
    "    reduce_features=reduce_features)\n",
    "\n",
    "# Train, evaluate, and retrieve the specified model\n",
    "clf, score = ml_utils.train_and_evaluate(\n",
    "    X_train=X_train,\n",
    "    y_train_encoded=y_train_encoded,\n",
    "    X_test=X_test,\n",
    "    y_test_encoded=y_test_encoded,\n",
    "    model_classifier=model_classifer,\n",
    ")\n",
    "\n"
   ]
  },
  {
   "cell_type": "markdown",
   "metadata": {},
   "source": [
    "## Validation on SVM Model"
   ]
  },
  {
   "cell_type": "code",
   "execution_count": null,
   "metadata": {},
   "outputs": [],
   "source": [
    "import sklearn.svm\n",
    "\n",
    "# Train your model\n",
    "clf = sklearn.svm.SVC()\n",
    "clf.fit(X_train, y_train)\n",
    "\n",
    "validation_score = clf.score(X_val, y_val)\n",
    "print(f\"Validation score: {validation_score:.2f}\")\n"
   ]
  },
  {
   "cell_type": "markdown",
   "metadata": {},
   "source": [
    "## Validation on KNN Model"
   ]
  },
  {
   "cell_type": "code",
   "execution_count": null,
   "metadata": {},
   "outputs": [],
   "source": [
    "import matplotlib.pyplot as plt\n",
    "import seaborn as sns\n",
    "from sklearn.metrics import accuracy_score, confusion_matrix\n",
    "from sklearn.neighbors import KNeighborsClassifier\n",
    "\n",
    "# Prepare your data (make sure you have X_train, y_train, X_test, y_test already set)\n",
    "# Here we assume X_train, y_train, X_test, y_test have been defined earlier in your code.\n",
    "\n",
    "# Initialize the KNN model\n",
    "knn = KNeighborsClassifier(n_neighbors=5)  # You can tune 'n_neighbors'\n",
    "\n",
    "# Train the model\n",
    "knn.fit(X_train, y_train)\n",
    "\n",
    "# Predict on the validation/test data\n",
    "y_val_pred = knn.predict(X_val)\n",
    "\n",
    "# Evaluate the model\n",
    "accuracy = accuracy_score(y_val, y_val_pred)\n",
    "print(f\"KNN Validation Accuracy: {accuracy:.2%}\")\n",
    "\n",
    "# Confusion Matrix to evaluate class-wise performance\n",
    "cm = confusion_matrix(y_val, y_val_pred)\n",
    "\n",
    "# Plot the confusion matrix\n",
    "plt.figure(figsize=(10, 7))\n",
    "sns.heatmap(\n",
    "    cm,\n",
    "    annot=True,\n",
    "    fmt=\"d\",\n",
    "    cmap=\"Blues\",\n",
    "    xticklabels=tracks[(\"track\", \"genre_top\")].unique(),\n",
    "    yticklabels=tracks[(\"track\", \"genre_top\")].unique(),\n",
    ")\n",
    "plt.title(\"KNN Confusion Matrix\")\n",
    "plt.xlabel(\"Predicted\")\n",
    "plt.ylabel(\"Actual\")\n",
    "plt.show()\n"
   ]
  }
 ],
 "metadata": {
  "kernelspec": {
   "display_name": "venv",
   "language": "python",
   "name": "python3"
  },
  "language_info": {
   "codemirror_mode": {
    "name": "ipython",
    "version": 3
   },
   "file_extension": ".py",
   "mimetype": "text/x-python",
   "name": "python",
   "nbconvert_exporter": "python",
   "pygments_lexer": "ipython3",
   "version": "3.11.4"
  }
 },
 "nbformat": 4,
 "nbformat_minor": 2
}
