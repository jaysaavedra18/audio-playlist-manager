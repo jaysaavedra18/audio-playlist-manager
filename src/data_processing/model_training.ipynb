{
 "cells": [
  {
   "cell_type": "markdown",
   "metadata": {},
   "source": [
    "# [FMA: A Dataset For Music Analysis](https://github.com/mdeff/fma)\n",
    "\n",
    "Michaël Defferrard, Kirell Benzi, Pierre Vandergheynst, Xavier Bresson, EPFL LTS2.\n",
    "\n",
    "## Setup: Import Packages and FMA Data"
   ]
  },
  {
   "cell_type": "code",
   "execution_count": 5,
   "metadata": {},
   "outputs": [],
   "source": [
    "%matplotlib inline\n",
    "\n",
    "import os\n",
    "from pathlib import Path\n",
    "\n",
    "import IPython.display as ipd\n",
    "import matplotlib.pyplot as plt\n",
    "import numpy as np\n",
    "\n",
    "import utils.fma_extraction as fma_utils\n",
    "import utils.ml_training as ml_utils\n",
    "\n",
    "plt.rcParams[\"figure.figsize\"] = (17, 5)"
   ]
  },
  {
   "cell_type": "code",
   "execution_count": 6,
   "metadata": {},
   "outputs": [
    {
     "data": {
      "text/plain": [
       "((106574, 52), (163, 4), (106574, 518), (13129, 249))"
      ]
     },
     "execution_count": 6,
     "metadata": {},
     "output_type": "execute_result"
    }
   ],
   "source": [
    "# Directory where mp3 are stored.\n",
    "FMA_METADATA_DIRECTORY = os.getenv(\"FMA_METADATA_DIRECTORY\")\n",
    "FMA_AUDIO_DIRECTORY = os.getenv(\"FMA_AUDIO_DIRECTORY\")\n",
    "\n",
    "# Load metadata and features.\n",
    "tracks = fma_utils.load(Path(FMA_METADATA_DIRECTORY) / \"tracks.csv\")\n",
    "genres = fma_utils.load(Path(FMA_METADATA_DIRECTORY) / \"genres.csv\")\n",
    "features = fma_utils.load(Path(FMA_METADATA_DIRECTORY) / \"features.csv\")\n",
    "echonest = fma_utils.load(Path(FMA_METADATA_DIRECTORY) / \"echonest.csv\")\n",
    "\n",
    "np.testing.assert_array_equal(features.index, tracks.index)\n",
    "assert echonest.index.isin(tracks.index).all()\n",
    "\n",
    "tracks.shape, genres.shape, features.shape, echonest.shape"
   ]
  },
  {
   "cell_type": "markdown",
   "metadata": {},
   "source": [
    "## **Jump to 5 for Model Training**"
   ]
  },
  {
   "cell_type": "markdown",
   "metadata": {},
   "source": [
    "### 3.1 Echonest features"
   ]
  },
  {
   "cell_type": "code",
   "execution_count": null,
   "metadata": {},
   "outputs": [],
   "source": [
    "print(\"{1} features for {0} tracks\".format(*echonest.shape))\n",
    "ipd.display(echonest[\"echonest\", \"metadata\"].head())\n",
    "ipd.display(echonest[\"echonest\", \"audio_features\"].head())\n",
    "ipd.display(echonest[\"echonest\", \"social_features\"].head())\n",
    "ipd.display(echonest[\"echonest\", \"ranks\"].head())"
   ]
  },
  {
   "cell_type": "code",
   "execution_count": null,
   "metadata": {},
   "outputs": [],
   "source": [
    "ipd.display(echonest[\"echonest\", \"temporal_features\"].head())\n",
    "x = echonest.loc[2, (\"echonest\", \"temporal_features\")]\n",
    "plt.plot(x)"
   ]
  },
  {
   "cell_type": "markdown",
   "metadata": {},
   "source": [
    "## 5 Genre classification"
   ]
  },
  {
   "cell_type": "markdown",
   "metadata": {},
   "source": [
    "### 5.1 From features"
   ]
  },
  {
   "cell_type": "code",
   "execution_count": null,
   "metadata": {},
   "outputs": [
    {
     "name": "stdout",
     "output_type": "stream",
     "text": [
      "19922 training examples, 2573 testing examples\n",
      "518 features, 16 classes\n"
     ]
    }
   ],
   "source": [
    "medium = (tracks[\"set\", \"subset\"] <= \"medium\")  # Filters for rows where the subset is \"medium\"\n",
    "\n",
    "# Create a boolean mask for the training, validation, and test data (where \"set\" is \"training/validation/test\")\n",
    "train = tracks[\"set\", \"split\"] == \"training\"\n",
    "val = tracks[\"set\", \"split\"] == \"validation\"\n",
    "test = tracks[\"set\", \"split\"] == \"test\"\n",
    "\n",
    "# Select the genre labels (target) and feature values for the training set\n",
    "y_train = tracks.loc[medium & train, (\"track\", \"genre_top\")]\n",
    "y_test = tracks.loc[medium & test, (\"track\", \"genre_top\")]\n",
    "X_train = features.loc[medium & train, ml_utils.feature_columns].values\n",
    "X_test = features.loc[medium & test, ml_utils.feature_columns].values\n",
    "\n",
    "# Flatten the feature arrays if needed (if features are multidimensional, e.g., MFCC)\n",
    "X_train = X_train.reshape(X_train.shape[0], -1)\n",
    "X_test = X_test.reshape(X_test.shape[0], -1)\n",
    "\n",
    "print(f\"{y_train.size} training examples, {y_test.size} testing examples\")\n",
    "print(f\"{X_train.shape[1]} features, {np.unique(y_train).size} classes\")"
   ]
  },
  {
   "cell_type": "code",
   "execution_count": 8,
   "metadata": {},
   "outputs": [
    {
     "name": "stdout",
     "output_type": "stream",
     "text": [
      "Accuracy: 62.88%\n"
     ]
    }
   ],
   "source": [
    "# Specify feature reduction and classifier\n",
    "reduce_features = False\n",
    "model_classifer = \"SVM\"\n",
    "\n",
    "# Preprocess data, removing features if specified\n",
    "X_train, X_test, y_train_encoded, y_test_encoded = ml_utils.preprocess_data(\n",
    "    X_train=X_train,\n",
    "    X_test=X_test,\n",
    "    y_train=y_train,\n",
    "    y_test=y_test,\n",
    "    reduce_features=reduce_features)\n",
    "\n",
    "# Train, evaluate, and retrieve the specified model\n",
    "clf, score = ml_utils.train_and_evaluate(\n",
    "    X_train=X_train,\n",
    "    y_train_encoded=y_train_encoded,\n",
    "    X_test=X_test,\n",
    "    y_test_encoded=y_test_encoded,\n",
    "    model_classifier=model_classifer,\n",
    ")\n"
   ]
  }
 ],
 "metadata": {
  "kernelspec": {
   "display_name": "venv",
   "language": "python",
   "name": "python3"
  },
  "language_info": {
   "codemirror_mode": {
    "name": "ipython",
    "version": 3
   },
   "file_extension": ".py",
   "mimetype": "text/x-python",
   "name": "python",
   "nbconvert_exporter": "python",
   "pygments_lexer": "ipython3",
   "version": "3.11.4"
  }
 },
 "nbformat": 4,
 "nbformat_minor": 2
}
